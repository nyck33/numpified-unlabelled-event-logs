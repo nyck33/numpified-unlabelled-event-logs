{
 "cells": [
  {
   "cell_type": "code",
   "execution_count": 6,
   "id": "bdfdad06-63a1-4973-8caf-299f11b5f52f",
   "metadata": {},
   "outputs": [],
   "source": [
    "import sys\n",
    "import math\n",
    "from operator import itemgetter\n",
    "import numpy as np\n",
    "\n",
    "BEGIN = 'o'\n",
    "END = 'x'"
   ]
  },
  {
   "cell_type": "code",
   "execution_count": 7,
   "id": "29b85098-b58e-4a73-b89d-29a35b38cfaf",
   "metadata": {},
   "outputs": [],
   "source": [
    "def printmodel(T, D):\n",
    "\tprint(' '.ljust(5), end=' ') # tab in 5 spaces from left\n",
    "\tfor a in D: #print top column names\n",
    "\t\tprint(a.ljust(5), end=' ')\n",
    "\tprint()\n",
    "\tfor a in D:\n",
    "\t\tprint(a.ljust(5), end=' ') #print row names\n",
    "\t\tfor b in D: #print cols of row, - if 0.0, else the probability\n",
    "\t\t\tif T[a][b] == 0.0:\n",
    "\t\t\t\tprint('-'.ljust(5), end=' ')\n",
    "\t\t\telse:\n",
    "\t\t\t\tprint('{0:.2f}'.format(T[a][b]).ljust(5), end=' ')\n",
    "\t\tprint()\n"
   ]
  },
  {
   "cell_type": "code",
   "execution_count": 8,
   "id": "7cfe097b-6ccd-41d7-a396-fb9d214143f2",
   "metadata": {},
   "outputs": [],
   "source": [
    "# general routine for converting a sequence to string\n",
    "def seq2str(seq):\n",
    "\t'''\n",
    "\tseq is a list whose elements are concatenated into\n",
    "\tstring\n",
    "\t'''\n",
    "\tstring = ''\n",
    "\tfor elem in seq:\n",
    "\t\tstring += str(elem)\n",
    "\treturn string\n",
    "\n",
    "# general routine for sorting a dictionary by values\n",
    "def sortbyvalue(d):\n",
    "\t'''\n",
    "\n",
    "\t'''\n",
    "\treturn sorted(iter(d.items()), key=itemgetter(1), reverse=True)"
   ]
  },
  {
   "cell_type": "code",
   "execution_count": 9,
   "id": "707a3459-cb88-49eb-9276-747ca0089e58",
   "metadata": {},
   "outputs": [],
   "source": [
    "def initializeD(x):\n",
    "\t'''\n",
    "\tD = [] # the set of symbols in x\n",
    "\n",
    "\t'''\n",
    "\tD = [BEGIN] + sorted(set(x)) + [END]\n",
    "\n",
    "\treturn D"
   ]
  },
  {
   "cell_type": "code",
   "execution_count": 10,
   "id": "04dbbacf-b41b-40e9-90c3-11428d1a1ec0",
   "metadata": {},
   "outputs": [],
   "source": [
    "def translateXToInts(x, Ddict):\n",
    "    intsX = [0 for i in range(len(x))]\n",
    "    for i in range(len(x)):\n",
    "        intsX[i] = Ddict[x[i]]\n",
    "    \n",
    "    return intsX"
   ]
  },
  {
   "cell_type": "code",
   "execution_count": 11,
   "id": "8bb1bef2-c154-42ef-a702-1f027828097c",
   "metadata": {},
   "outputs": [],
   "source": [
    "def initializeGM(D):\n",
    "\tnumSymbols = len(D)\n",
    "\tgM = np.zeros((numSymbols, numSymbols), dtype=np.float32)\n",
    "\treturn gM"
   ]
  },
  {
   "cell_type": "code",
   "execution_count": 12,
   "id": "a52e451c-74de-4f0f-af0f-caa5488156df",
   "metadata": {},
   "outputs": [],
   "source": [
    "def buildGM(x, gM, N):\n",
    "\t'''\n",
    "\timmmutable newGM\n",
    "\t#adjust probs in nested dict counting occurrences \n",
    "\t# in symbol sequence x\n",
    "\n",
    "\t'''\n",
    "\tnewGM = np.copy(gM)\n",
    "\n",
    "\tfor n in range(0, N-1):\n",
    "\t\ta = x[n]\n",
    "\t\tb = x[n+1]\n",
    "\t\tnewGM[a,b] = gM[a,b] + 1.0 # for checking\n",
    "\n",
    "\treturn newGM"
   ]
  },
  {
   "cell_type": "code",
   "execution_count": 59,
   "id": "1f109caa-527c-4082-bdbc-b26f69704a77",
   "metadata": {},
   "outputs": [],
   "source": [
    "def normalizeGM(gM):\n",
    "    '''\n",
    "    newGM[key] = {char: double} normalized\n",
    "    '''\n",
    "    newGM = np.zeros(np.shape(gM))\n",
    "    #sum cols\n",
    "    rowsum = (np.sum(gM, axis=1)[np.newaxis]) #.T\n",
    "    print(f'rowsum: {rowsum}')\n",
    "    _,cols = np.shape(rowsum)\n",
    "    print(f'cols:{cols}')\n",
    "    \n",
    "    #rowsumStack = np.column_stack([rowsum for i in range(np.shape(rowsum)[1])])\n",
    "    for i in range(cols):\n",
    "        if(rowsum[0,i] > 0):\n",
    "            newGM[i] = gM[i] / rowsum[0,i]\n",
    "    \n",
    "    #np.place(newGM, rowsumStack>0, gM/rowsumStack)\n",
    "    \n",
    "\n",
    "    return newGM"
   ]
  },
  {
   "cell_type": "markdown",
   "id": "7db82637-b90b-4163-8710-45a2f3fbd475",
   "metadata": {},
   "source": [
    "# Estimate"
   ]
  },
  {
   "cell_type": "code",
   "execution_count": null,
   "id": "0dbddca4-a8a2-4ab5-ac22-001bf0fbe702",
   "metadata": {},
   "outputs": [],
   "source": [
    "# expectation-maximization procedure to estimate s and M iteratively (algorithm 2 in the paper)\n",
    "def estimate(x, s, gM, M, D, y, N):\n",
    "    prevsseqs = []\n",
    "    print('Initializing source sequence...')\n",
    "    #gM = param T\n",
    "    s, y = estsources(x, D, N, gM) # start with an estimate of s computed from the global model gM\n",
    "    its = 0\n",
    "    while s not in prevsseqs:\n",
    "        its += 1\n",
    "        print('#{0}: Estimating parameters...'.format(its))\n",
    "        M = estparams(D, y) # update transition matrix M\n",
    "        prevsseqs.append(s[:])\n",
    "        print('#{0}: Computing source sequence...'.format(its))\n",
    "\ts, y = estsources(x, D, N, M) # use current M to re-estimate s\n",
    "\treturn len(set(s)), M"
   ]
  },
  {
   "cell_type": "code",
   "execution_count": null,
   "id": "e0fc3e1a-417f-404c-9d8e-206ee1555152",
   "metadata": {},
   "outputs": [],
   "source": []
  },
  {
   "cell_type": "code",
   "execution_count": null,
   "id": "e32eb9b0-64df-420c-8fcc-3f1e10c407eb",
   "metadata": {},
   "outputs": [],
   "source": []
  },
  {
   "cell_type": "code",
   "execution_count": null,
   "id": "a7bb69bd-9030-4bf4-9583-877d006e83ab",
   "metadata": {},
   "outputs": [],
   "source": []
  },
  {
   "cell_type": "code",
   "execution_count": null,
   "id": "285841ea-da7e-4f00-9066-3d7e11780f62",
   "metadata": {},
   "outputs": [],
   "source": []
  },
  {
   "cell_type": "code",
   "execution_count": null,
   "id": "4a2cb84e-cbd7-4411-a05b-255a7282b228",
   "metadata": {},
   "outputs": [],
   "source": []
  },
  {
   "cell_type": "code",
   "execution_count": null,
   "id": "89a65d59-9be9-4584-b8f2-f23e8665047e",
   "metadata": {},
   "outputs": [],
   "source": []
  },
  {
   "cell_type": "code",
   "execution_count": null,
   "id": "f4d72d38-069b-47bc-8074-16295c9d0fca",
   "metadata": {},
   "outputs": [],
   "source": []
  },
  {
   "cell_type": "code",
   "execution_count": 65,
   "id": "24f59edb-cd11-4447-8670-97eb93185a83",
   "metadata": {},
   "outputs": [
    {
     "name": "stdout",
     "output_type": "stream",
     "text": [
      "Symbol sequence:  ACDEFAAACC\n",
      "(10 symbols)\n",
      "D: ['o', 'A', 'C', 'D', 'E', 'F', 'x']\n",
      "newX: [1, 2, 3, 4, 5, 1, 1, 1, 2, 2]\n",
      "Ddict: {'o': 0, 'A': 1, 'C': 2, 'D': 3, 'E': 4, 'F': 5, 'x': 6}\n",
      "gM:\n",
      " [[0. 0. 0. 0. 0. 0. 0.]\n",
      " [0. 0. 0. 0. 0. 0. 0.]\n",
      " [0. 0. 0. 0. 0. 0. 0.]\n",
      " [0. 0. 0. 0. 0. 0. 0.]\n",
      " [0. 0. 0. 0. 0. 0. 0.]\n",
      " [0. 0. 0. 0. 0. 0. 0.]\n",
      " [0. 0. 0. 0. 0. 0. 0.]]\n",
      "gM:\n",
      " [[0. 0. 0. 0. 0. 0. 0.]\n",
      " [0. 1. 1. 0. 0. 0. 0.]\n",
      " [0. 0. 1. 1. 0. 0. 0.]\n",
      " [0. 0. 0. 0. 1. 0. 0.]\n",
      " [0. 0. 0. 0. 0. 1. 0.]\n",
      " [0. 1. 0. 0. 0. 0. 0.]\n",
      " [0. 0. 0. 0. 0. 0. 0.]]\n",
      "rowsum: [[0. 2. 2. 1. 1. 1. 0.]]\n",
      "cols:7\n",
      "gM:\n",
      " [[0.  0.  0.  0.  0.  0.  0. ]\n",
      " [0.  0.5 0.5 0.  0.  0.  0. ]\n",
      " [0.  0.  0.5 0.5 0.  0.  0. ]\n",
      " [0.  0.  0.  0.  1.  0.  0. ]\n",
      " [0.  0.  0.  0.  0.  1.  0. ]\n",
      " [0.  1.  0.  0.  0.  0.  0. ]\n",
      " [0.  0.  0.  0.  0.  0.  0. ]]\n"
     ]
    },
    {
     "ename": "NameError",
     "evalue": "name 'estimate' is not defined",
     "output_type": "error",
     "traceback": [
      "\u001b[0;31m---------------------------------------------------------------------------\u001b[0m",
      "\u001b[0;31mNameError\u001b[0m                                 Traceback (most recent call last)",
      "Cell \u001b[0;32mIn [65], line 48\u001b[0m\n\u001b[1;32m     44\u001b[0m y \u001b[38;5;241m=\u001b[39m \u001b[38;5;28mdict\u001b[39m() \u001b[38;5;66;03m# the separate source sequences (y^{(k)} in the paper)\u001b[39;00m\n\u001b[1;32m     46\u001b[0m \u001b[38;5;66;03m# estimate model, with all above member variables\u001b[39;00m\n\u001b[0;32m---> 48\u001b[0m K, M \u001b[38;5;241m=\u001b[39m \u001b[43mestimate\u001b[49m(x, s, gM, M, D, y, N)\n\u001b[1;32m     50\u001b[0m \u001b[38;5;66;03m#modelCorrect = m.checkmodel()\u001b[39;00m\n\u001b[1;32m     51\u001b[0m \n\u001b[1;32m     52\u001b[0m \u001b[38;5;66;03m#print(f'model is ok: {modelCorrect}')\u001b[39;00m\n\u001b[1;32m     53\u001b[0m \n\u001b[1;32m     54\u001b[0m \u001b[38;5;66;03m# print model\u001b[39;00m\n\u001b[1;32m     55\u001b[0m printmodel(M, D)\n",
      "\u001b[0;31mNameError\u001b[0m: name 'estimate' is not defined"
     ]
    }
   ],
   "source": [
    "if __name__==\"__main__\":\n",
    "    # read symbol sequence x from stdin, with one symbol per line\n",
    "    x = []\n",
    "\n",
    "    filename = \"mocksequence.txt\"\n",
    "    #filename = \"sequence.txt\"\n",
    "\n",
    "    with open(filename, mode=\"r\") as f:\n",
    "        lines = f.readlines()\n",
    "        for line in lines:\n",
    "            symbol = line.strip()\n",
    "            if len(symbol) > 0:\n",
    "                x += [symbol]\n",
    "    \n",
    "\n",
    "    # print the sequence as string\n",
    "    print(\"Symbol sequence: \", seq2str(x))\n",
    "\n",
    "    print(\"({0} symbols)\".format(len(x)))\n",
    "\n",
    "    N = len(x)\n",
    "    #################################################################\n",
    "    # call init funcs\n",
    "    # list\n",
    "    D = initializeD(x)\n",
    "    print(f'D: {D}')\n",
    "    #dictionary of alpha: integer index into array\n",
    "    Ddict = {D[i]:i for i in range(len(D))}\n",
    "    #translate x sequence into integers\n",
    "    newX = translateXToInts(x, Ddict)\n",
    "    print(f'newX: {newX}')\n",
    "\n",
    "    print(f'Ddict: {Ddict}')\n",
    "    gM = initializeGM(D)\n",
    "    print(f'gM:\\n {gM}')\n",
    "    gM = buildGM(newX,gM, len(x))\n",
    "    print(f'gM:\\n {gM}')\n",
    "    gM = normalizeGM(gM)\n",
    "    print(f'gM:\\n {gM}')\n",
    "    \n",
    "    M = np.zeros(np.shape(gM))\n",
    "    s = [] # the source sequence s (to be determined)\n",
    "    \n",
    "    y = dict() # the separate source sequences (y^{(k)} in the paper)\n",
    "\n",
    "    # estimate model, with all above member variables\n",
    "\n",
    "    K, M = estimate(x, s, gM, M, D, y, N)\n",
    "\n",
    "    #modelCorrect = m.checkmodel()\n",
    "\n",
    "    #print(f'model is ok: {modelCorrect}')\n",
    "\n",
    "    # print model\n",
    "    printmodel(M, D)\n",
    "\n",
    "    # show the probability distribution of the different sequences in the model\n",
    "    pz = sortbyvalue(seqprobs(y))\n",
    "    for z, p in pz:\n",
    "        print('{0:.3f} : {1}'.format(p, z))\n",
    "\n",
    "    print('Total number of sources: {0}'.format(K))\n",
    "\n",
    "    #####################################\n"
   ]
  },
  {
   "cell_type": "markdown",
   "id": "05eeaf88-eb1a-42a1-8279-0371d3e6bf80",
   "metadata": {},
   "source": [
    "# Test Cell"
   ]
  },
  {
   "cell_type": "code",
   "execution_count": 60,
   "id": "d3de2fcb-52f5-4281-b274-750dbde2f7fa",
   "metadata": {},
   "outputs": [
    {
     "name": "stdout",
     "output_type": "stream",
     "text": [
      "newX: [1, 2, 3]\n",
      "Ddict: {'o': 0, 'A': 1, 'B': 2, 'C': 3, 'x': 4}\n",
      "gM:\n",
      " [[0. 0. 0. 0. 0.]\n",
      " [0. 0. 0. 0. 0.]\n",
      " [0. 0. 0. 0. 0.]\n",
      " [0. 0. 0. 0. 0.]\n",
      " [0. 0. 0. 0. 0.]]\n",
      "gM:\n",
      " [[0. 0. 0. 0. 0.]\n",
      " [0. 0. 1. 0. 0.]\n",
      " [0. 0. 0. 1. 0.]\n",
      " [0. 0. 0. 0. 0.]\n",
      " [0. 0. 0. 0. 0.]]\n",
      "rowsum: [[0. 1. 1. 0. 0.]]\n",
      "cols:5\n",
      "gM:\n",
      " [[0. 0. 0. 0. 0.]\n",
      " [0. 0. 1. 0. 0.]\n",
      " [0. 0. 0. 1. 0.]\n",
      " [0. 0. 0. 0. 0.]\n",
      " [0. 0. 0. 0. 0.]]\n"
     ]
    }
   ],
   "source": [
    "x = ['A', 'B', 'C']\n",
    "# list\n",
    "D = initializeD(x)\n",
    "#dictionary of alpha: integer index into array\n",
    "Ddict = {D[i]:i for i in range(len(D))}\n",
    "#translate x sequence into integers\n",
    "newX = translateXToInts(x, Ddict)\n",
    "print(f'newX: {newX}')\n",
    "\n",
    "print(f'Ddict: {Ddict}')\n",
    "gM = initializeGM(D)\n",
    "print(f'gM:\\n {gM}')\n",
    "gM = buildGM(newX,gM, len(x))\n",
    "print(f'gM:\\n {gM}')\n",
    "gM = normalizeGM(gM)\n",
    "print(f'gM:\\n {gM}')\n"
   ]
  },
  {
   "cell_type": "code",
   "execution_count": null,
   "id": "447cb6ec-3324-4f59-88f3-07d080c120b4",
   "metadata": {},
   "outputs": [],
   "source": []
  }
 ],
 "metadata": {
  "kernelspec": {
   "display_name": "Python 3 (ipykernel)",
   "language": "python",
   "name": "python3"
  },
  "language_info": {
   "codemirror_mode": {
    "name": "ipython",
    "version": 3
   },
   "file_extension": ".py",
   "mimetype": "text/x-python",
   "name": "python",
   "nbconvert_exporter": "python",
   "pygments_lexer": "ipython3",
   "version": "3.8.13"
  }
 },
 "nbformat": 4,
 "nbformat_minor": 5
}
